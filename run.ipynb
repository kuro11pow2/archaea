{
 "cells": [
  {
   "cell_type": "code",
   "execution_count": null,
   "metadata": {},
   "outputs": [],
   "source": [
    "from src.youtube import ChannelAbout\n",
    "import sys\n",
    "import ipykernel\n",
    "print(ipykernel.__version__)\n",
    "print(sys.version)\n"
   ]
  },
  {
   "cell_type": "code",
   "execution_count": null,
   "metadata": {},
   "outputs": [],
   "source": [
    "channels = map(ChannelAbout, ['UCV9WL7sW6_KjanYkUUaIDfQ', 'UCUj6rrhMTR9pipbAWBAMvUQ'])\n",
    "for ch in channels:\n",
    "    print(ch.request().parse_view())"
   ]
  },
  {
   "cell_type": "code",
   "execution_count": null,
   "metadata": {},
   "outputs": [],
   "source": [
    "import src.sample_stock"
   ]
  },
  {
   "cell_type": "code",
   "execution_count": null,
   "metadata": {},
   "outputs": [],
   "source": [
    "import src.youtube\n",
    "\n",
    "import os, json\n",
    "from datetime import datetime, timezone, timedelta\n",
    "\n",
    "today = str(datetime.now(timezone(timedelta(hours=0))).date())\n",
    "target_file = os.path.join(os.getcwd(), 'data', 'youtube.json')\n",
    "channels = {\n",
    "    '침착맨':'UCUj6rrhMTR9pipbAWBAMvUQ'\n",
    "    }\n",
    "\n",
    "data = None\n",
    "try:\n",
    "    with open(target_file, 'r', encoding=\"UTF-8-sig\") as f:\n",
    "        data = json.JSONDecoder().decode(f.read())\n",
    "except Exception as e:\n",
    "    print('기존 파일이 존재하지 않음.')\n",
    "    data = dict()\n",
    "\n",
    "for name, id in channels.items():\n",
    "    cnt = ChannelAbout(id).request().parse_view()\n",
    "\n",
    "    if name not in data.keys(): \n",
    "        data[name] = dict()\n",
    "    if today not in data[name].keys():\n",
    "        data[name] = {**data[name], **{today: cnt}}\n",
    "        print(data)\n",
    "    else:\n",
    "        print(f'{today} 데이터 존재함: {name}, {cnt}')\n",
    "\n",
    "\n",
    "with open(target_file, \"w\", encoding=\"UTF-8-sig\") as f_write:\n",
    "    json.dump(data, f_write, ensure_ascii=False, indent=4)\n",
    "\n"
   ]
  }
 ],
 "metadata": {
  "interpreter": {
   "hash": "92af5a26bf30207789f3855b30100c5615503e73af9dfdccd0909e285010cbfd"
  },
  "kernelspec": {
   "display_name": "Python 3.8.8 64-bit ('base': conda)",
   "language": "python",
   "name": "python3"
  },
  "language_info": {
   "codemirror_mode": {
    "name": "ipython",
    "version": 3
   },
   "file_extension": ".py",
   "mimetype": "text/x-python",
   "name": "python",
   "nbconvert_exporter": "python",
   "pygments_lexer": "ipython3",
   "version": "3.8.12"
  },
  "orig_nbformat": 4
 },
 "nbformat": 4,
 "nbformat_minor": 2
}
