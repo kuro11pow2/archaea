{
 "cells": [
  {
   "cell_type": "code",
   "execution_count": null,
   "metadata": {},
   "outputs": [],
   "source": [
    "from src.youtube import ChannelAbout\n",
    "import sys\n",
    "import ipykernel\n",
    "print(ipykernel.__version__)\n",
    "print(sys.version)\n"
   ]
  },
  {
   "cell_type": "code",
   "execution_count": null,
   "metadata": {},
   "outputs": [],
   "source": [
    "channels = map(ChannelAbout, ['UCV9WL7sW6_KjanYkUUaIDfQ', 'UCUj6rrhMTR9pipbAWBAMvUQ'])\n",
    "for ch in channels:\n",
    "    print(ch.request().parse_view())"
   ]
  },
  {
   "cell_type": "code",
   "execution_count": null,
   "metadata": {},
   "outputs": [],
   "source": [
    "import src.sample_stock"
   ]
  },
  {
   "cell_type": "code",
   "execution_count": 1,
   "metadata": {},
   "outputs": [
    {
     "name": "stdout",
     "output_type": "stream",
     "text": [
      "5-Minute Crafts 조회\n",
      "{'c/5MinuteCraftsYouTube': {'name': '5-Minute Crafts', 'viewCounts': {'2021-12-26': 22082952472, '2021-12-27': 22098327995, '2021-12-28': 22114226929, '2021-12-29': 22127657786, '2021-12-30': 22152363140, '2021-12-31': 22155065254, '2022-01-01': 22167642414, '2022-01-02': 22167642414}}, 'channel/UCUj6rrhMTR9pipbAWBAMvUQ': {'name': '침착맨', 'viewCounts': {'2021-12-26': 841497664, '2021-12-27': 842637057, '2021-12-28': 843858909, '2021-12-29': 845056581, '2021-12-30': 846329734, '2021-12-31': 848600729, '2022-01-01': 849627779}}}\n",
      "침착맨 조회\n",
      "{'c/5MinuteCraftsYouTube': {'name': '5-Minute Crafts', 'viewCounts': {'2021-12-26': 22082952472, '2021-12-27': 22098327995, '2021-12-28': 22114226929, '2021-12-29': 22127657786, '2021-12-30': 22152363140, '2021-12-31': 22155065254, '2022-01-01': 22167642414, '2022-01-02': 22167642414}}, 'channel/UCUj6rrhMTR9pipbAWBAMvUQ': {'name': '침착맨', 'viewCounts': {'2021-12-26': 841497664, '2021-12-27': 842637057, '2021-12-28': 843858909, '2021-12-29': 845056581, '2021-12-30': 846329734, '2021-12-31': 848600729, '2022-01-01': 849627779, '2022-01-02': 849627779}}}\n",
      "임영웅 조회\n",
      "{'c/5MinuteCraftsYouTube': {'name': '5-Minute Crafts', 'viewCounts': {'2021-12-26': 22082952472, '2021-12-27': 22098327995, '2021-12-28': 22114226929, '2021-12-29': 22127657786, '2021-12-30': 22152363140, '2021-12-31': 22155065254, '2022-01-01': 22167642414, '2022-01-02': 22167642414}}, 'channel/UCUj6rrhMTR9pipbAWBAMvUQ': {'name': '침착맨', 'viewCounts': {'2021-12-26': 841497664, '2021-12-27': 842637057, '2021-12-28': 843858909, '2021-12-29': 845056581, '2021-12-30': 846329734, '2021-12-31': 848600729, '2022-01-01': 849627779, '2022-01-02': 849627779}}, 'channel/UC3WZlO2Zl8NE1yIUgtwUtQw': {'name': '임영웅', 'viewCounts': {'2022-01-02': 1186320017}}}\n",
      "이지금 [IU Official] 조회\n",
      "{'c/5MinuteCraftsYouTube': {'name': '5-Minute Crafts', 'viewCounts': {'2021-12-26': 22082952472, '2021-12-27': 22098327995, '2021-12-28': 22114226929, '2021-12-29': 22127657786, '2021-12-30': 22152363140, '2021-12-31': 22155065254, '2022-01-01': 22167642414, '2022-01-02': 22167642414}}, 'channel/UCUj6rrhMTR9pipbAWBAMvUQ': {'name': '침착맨', 'viewCounts': {'2021-12-26': 841497664, '2021-12-27': 842637057, '2021-12-28': 843858909, '2021-12-29': 845056581, '2021-12-30': 846329734, '2021-12-31': 848600729, '2022-01-01': 849627779, '2022-01-02': 849627779}}, 'channel/UC3WZlO2Zl8NE1yIUgtwUtQw': {'name': '임영웅', 'viewCounts': {'2022-01-02': 1186320017}}, 'channel/UC3SyT4_WLHzN7JmHQwKQZww': {'name': '이지금 [IU Official]', 'viewCounts': {'2022-01-02': 1214813275}}}\n",
      "haha ha 조회\n",
      "{'c/5MinuteCraftsYouTube': {'name': '5-Minute Crafts', 'viewCounts': {'2021-12-26': 22082952472, '2021-12-27': 22098327995, '2021-12-28': 22114226929, '2021-12-29': 22127657786, '2021-12-30': 22152363140, '2021-12-31': 22155065254, '2022-01-01': 22167642414, '2022-01-02': 22167642414}}, 'channel/UCUj6rrhMTR9pipbAWBAMvUQ': {'name': '침착맨', 'viewCounts': {'2021-12-26': 841497664, '2021-12-27': 842637057, '2021-12-28': 843858909, '2021-12-29': 845056581, '2021-12-30': 846329734, '2021-12-31': 848600729, '2022-01-01': 849627779, '2022-01-02': 849627779}}, 'channel/UC3WZlO2Zl8NE1yIUgtwUtQw': {'name': '임영웅', 'viewCounts': {'2022-01-02': 1186320017}}, 'channel/UC3SyT4_WLHzN7JmHQwKQZww': {'name': '이지금 [IU Official]', 'viewCounts': {'2022-01-02': 1214813275}}, 'channel/UCOp66Vup07X0YziXaaxqs2A': {'name': 'haha ha', 'viewCounts': {'2022-01-02': 401517700}}}\n",
      "휘용 Hwiyong 조회\n",
      "{'c/5MinuteCraftsYouTube': {'name': '5-Minute Crafts', 'viewCounts': {'2021-12-26': 22082952472, '2021-12-27': 22098327995, '2021-12-28': 22114226929, '2021-12-29': 22127657786, '2021-12-30': 22152363140, '2021-12-31': 22155065254, '2022-01-01': 22167642414, '2022-01-02': 22167642414}}, 'channel/UCUj6rrhMTR9pipbAWBAMvUQ': {'name': '침착맨', 'viewCounts': {'2021-12-26': 841497664, '2021-12-27': 842637057, '2021-12-28': 843858909, '2021-12-29': 845056581, '2021-12-30': 846329734, '2021-12-31': 848600729, '2022-01-01': 849627779, '2022-01-02': 849627779}}, 'channel/UC3WZlO2Zl8NE1yIUgtwUtQw': {'name': '임영웅', 'viewCounts': {'2022-01-02': 1186320017}}, 'channel/UC3SyT4_WLHzN7JmHQwKQZww': {'name': '이지금 [IU Official]', 'viewCounts': {'2022-01-02': 1214813275}}, 'channel/UCOp66Vup07X0YziXaaxqs2A': {'name': 'haha ha', 'viewCounts': {'2022-01-02': 401517700}}, 'channel/UCzgNzUJkXaUbVgHyiycQ2Zw': {'name': '휘용 Hwiyong', 'viewCounts': {'2022-01-02': 21439236}}}\n",
      "14F 일사에프 조회\n",
      "{'c/5MinuteCraftsYouTube': {'name': '5-Minute Crafts', 'viewCounts': {'2021-12-26': 22082952472, '2021-12-27': 22098327995, '2021-12-28': 22114226929, '2021-12-29': 22127657786, '2021-12-30': 22152363140, '2021-12-31': 22155065254, '2022-01-01': 22167642414, '2022-01-02': 22167642414}}, 'channel/UCUj6rrhMTR9pipbAWBAMvUQ': {'name': '침착맨', 'viewCounts': {'2021-12-26': 841497664, '2021-12-27': 842637057, '2021-12-28': 843858909, '2021-12-29': 845056581, '2021-12-30': 846329734, '2021-12-31': 848600729, '2022-01-01': 849627779, '2022-01-02': 849627779}}, 'channel/UC3WZlO2Zl8NE1yIUgtwUtQw': {'name': '임영웅', 'viewCounts': {'2022-01-02': 1186320017}}, 'channel/UC3SyT4_WLHzN7JmHQwKQZww': {'name': '이지금 [IU Official]', 'viewCounts': {'2022-01-02': 1214813275}}, 'channel/UCOp66Vup07X0YziXaaxqs2A': {'name': 'haha ha', 'viewCounts': {'2022-01-02': 401517700}}, 'channel/UCzgNzUJkXaUbVgHyiycQ2Zw': {'name': '휘용 Hwiyong', 'viewCounts': {'2022-01-02': 21439236}}, 'channel/UCLKuglhGlMmDteQKoniENIQ': {'name': '14F 일사에프', 'viewCounts': {'2022-01-02': 435818326}}}\n",
      "BANGTANTV 조회\n",
      "{'c/5MinuteCraftsYouTube': {'name': '5-Minute Crafts', 'viewCounts': {'2021-12-26': 22082952472, '2021-12-27': 22098327995, '2021-12-28': 22114226929, '2021-12-29': 22127657786, '2021-12-30': 22152363140, '2021-12-31': 22155065254, '2022-01-01': 22167642414, '2022-01-02': 22167642414}}, 'channel/UCUj6rrhMTR9pipbAWBAMvUQ': {'name': '침착맨', 'viewCounts': {'2021-12-26': 841497664, '2021-12-27': 842637057, '2021-12-28': 843858909, '2021-12-29': 845056581, '2021-12-30': 846329734, '2021-12-31': 848600729, '2022-01-01': 849627779, '2022-01-02': 849627779}}, 'channel/UC3WZlO2Zl8NE1yIUgtwUtQw': {'name': '임영웅', 'viewCounts': {'2022-01-02': 1186320017}}, 'channel/UC3SyT4_WLHzN7JmHQwKQZww': {'name': '이지금 [IU Official]', 'viewCounts': {'2022-01-02': 1214813275}}, 'channel/UCOp66Vup07X0YziXaaxqs2A': {'name': 'haha ha', 'viewCounts': {'2022-01-02': 401517700}}, 'channel/UCzgNzUJkXaUbVgHyiycQ2Zw': {'name': '휘용 Hwiyong', 'viewCounts': {'2022-01-02': 21439236}}, 'channel/UCLKuglhGlMmDteQKoniENIQ': {'name': '14F 일사에프', 'viewCounts': {'2022-01-02': 435818326}}, 'c/BANGTANTV': {'name': 'BANGTANTV', 'viewCounts': {'2022-01-02': 14513381040}}}\n",
      "JFlaMusic 조회\n",
      "{'c/5MinuteCraftsYouTube': {'name': '5-Minute Crafts', 'viewCounts': {'2021-12-26': 22082952472, '2021-12-27': 22098327995, '2021-12-28': 22114226929, '2021-12-29': 22127657786, '2021-12-30': 22152363140, '2021-12-31': 22155065254, '2022-01-01': 22167642414, '2022-01-02': 22167642414}}, 'channel/UCUj6rrhMTR9pipbAWBAMvUQ': {'name': '침착맨', 'viewCounts': {'2021-12-26': 841497664, '2021-12-27': 842637057, '2021-12-28': 843858909, '2021-12-29': 845056581, '2021-12-30': 846329734, '2021-12-31': 848600729, '2022-01-01': 849627779, '2022-01-02': 849627779}}, 'channel/UC3WZlO2Zl8NE1yIUgtwUtQw': {'name': '임영웅', 'viewCounts': {'2022-01-02': 1186320017}}, 'channel/UC3SyT4_WLHzN7JmHQwKQZww': {'name': '이지금 [IU Official]', 'viewCounts': {'2022-01-02': 1214813275}}, 'channel/UCOp66Vup07X0YziXaaxqs2A': {'name': 'haha ha', 'viewCounts': {'2022-01-02': 401517700}}, 'channel/UCzgNzUJkXaUbVgHyiycQ2Zw': {'name': '휘용 Hwiyong', 'viewCounts': {'2022-01-02': 21439236}}, 'channel/UCLKuglhGlMmDteQKoniENIQ': {'name': '14F 일사에프', 'viewCounts': {'2022-01-02': 435818326}}, 'c/BANGTANTV': {'name': 'BANGTANTV', 'viewCounts': {'2022-01-02': 14513381040}}, 'c/JFlaMusic': {'name': 'JFlaMusic', 'viewCounts': {'2022-01-02': 3522512125}}}\n",
      "우왁굳의 게임방송 조회\n",
      "{'c/5MinuteCraftsYouTube': {'name': '5-Minute Crafts', 'viewCounts': {'2021-12-26': 22082952472, '2021-12-27': 22098327995, '2021-12-28': 22114226929, '2021-12-29': 22127657786, '2021-12-30': 22152363140, '2021-12-31': 22155065254, '2022-01-01': 22167642414, '2022-01-02': 22167642414}}, 'channel/UCUj6rrhMTR9pipbAWBAMvUQ': {'name': '침착맨', 'viewCounts': {'2021-12-26': 841497664, '2021-12-27': 842637057, '2021-12-28': 843858909, '2021-12-29': 845056581, '2021-12-30': 846329734, '2021-12-31': 848600729, '2022-01-01': 849627779, '2022-01-02': 849627779}}, 'channel/UC3WZlO2Zl8NE1yIUgtwUtQw': {'name': '임영웅', 'viewCounts': {'2022-01-02': 1186320017}}, 'channel/UC3SyT4_WLHzN7JmHQwKQZww': {'name': '이지금 [IU Official]', 'viewCounts': {'2022-01-02': 1214813275}}, 'channel/UCOp66Vup07X0YziXaaxqs2A': {'name': 'haha ha', 'viewCounts': {'2022-01-02': 401517700}}, 'channel/UCzgNzUJkXaUbVgHyiycQ2Zw': {'name': '휘용 Hwiyong', 'viewCounts': {'2022-01-02': 21439236}}, 'channel/UCLKuglhGlMmDteQKoniENIQ': {'name': '14F 일사에프', 'viewCounts': {'2022-01-02': 435818326}}, 'c/BANGTANTV': {'name': 'BANGTANTV', 'viewCounts': {'2022-01-02': 14513381040}}, 'c/JFlaMusic': {'name': 'JFlaMusic', 'viewCounts': {'2022-01-02': 3522512125}}, 'user/woowakgood': {'name': '우왁굳의 게임방송', 'viewCounts': {'2022-01-02': 1125709651}}}\n",
      "고세구 GOSEGU 조회\n",
      "{'c/5MinuteCraftsYouTube': {'name': '5-Minute Crafts', 'viewCounts': {'2021-12-26': 22082952472, '2021-12-27': 22098327995, '2021-12-28': 22114226929, '2021-12-29': 22127657786, '2021-12-30': 22152363140, '2021-12-31': 22155065254, '2022-01-01': 22167642414, '2022-01-02': 22167642414}}, 'channel/UCUj6rrhMTR9pipbAWBAMvUQ': {'name': '침착맨', 'viewCounts': {'2021-12-26': 841497664, '2021-12-27': 842637057, '2021-12-28': 843858909, '2021-12-29': 845056581, '2021-12-30': 846329734, '2021-12-31': 848600729, '2022-01-01': 849627779, '2022-01-02': 849627779}}, 'channel/UC3WZlO2Zl8NE1yIUgtwUtQw': {'name': '임영웅', 'viewCounts': {'2022-01-02': 1186320017}}, 'channel/UC3SyT4_WLHzN7JmHQwKQZww': {'name': '이지금 [IU Official]', 'viewCounts': {'2022-01-02': 1214813275}}, 'channel/UCOp66Vup07X0YziXaaxqs2A': {'name': 'haha ha', 'viewCounts': {'2022-01-02': 401517700}}, 'channel/UCzgNzUJkXaUbVgHyiycQ2Zw': {'name': '휘용 Hwiyong', 'viewCounts': {'2022-01-02': 21439236}}, 'channel/UCLKuglhGlMmDteQKoniENIQ': {'name': '14F 일사에프', 'viewCounts': {'2022-01-02': 435818326}}, 'c/BANGTANTV': {'name': 'BANGTANTV', 'viewCounts': {'2022-01-02': 14513381040}}, 'c/JFlaMusic': {'name': 'JFlaMusic', 'viewCounts': {'2022-01-02': 3522512125}}, 'user/woowakgood': {'name': '우왁굳의 게임방송', 'viewCounts': {'2022-01-02': 1125709651}}, 'channel/UCV9WL7sW6_KjanYkUUaIDfQ': {'name': '고세구 GOSEGU', 'viewCounts': {'2022-01-02': 7281473}}}\n"
     ]
    }
   ],
   "source": [
    "import main"
   ]
  }
 ],
 "metadata": {
  "interpreter": {
   "hash": "92af5a26bf30207789f3855b30100c5615503e73af9dfdccd0909e285010cbfd"
  },
  "kernelspec": {
   "display_name": "Python 3.8.8 64-bit ('base': conda)",
   "language": "python",
   "name": "python3"
  },
  "language_info": {
   "codemirror_mode": {
    "name": "ipython",
    "version": 3
   },
   "file_extension": ".py",
   "mimetype": "text/x-python",
   "name": "python",
   "nbconvert_exporter": "python",
   "pygments_lexer": "ipython3",
   "version": "3.8.12"
  },
  "orig_nbformat": 4
 },
 "nbformat": 4,
 "nbformat_minor": 2
}
