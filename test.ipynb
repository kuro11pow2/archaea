{
 "cells": [
  {
   "cell_type": "code",
   "execution_count": 3,
   "metadata": {},
   "outputs": [
    {
     "name": "stdout",
     "output_type": "stream",
     "text": [
      "6104741\n",
      "841497664\n"
     ]
    }
   ],
   "source": [
    "from src.youtube import ChannelAbout\n",
    "\n",
    "channels = map(ChannelAbout, ['UCV9WL7sW6_KjanYkUUaIDfQ', 'UCUj6rrhMTR9pipbAWBAMvUQ'])\n",
    "for ch in channels:\n",
    "    print(ch.request().parse_view())\n"
   ]
  }
 ],
 "metadata": {
  "interpreter": {
   "hash": "92af5a26bf30207789f3855b30100c5615503e73af9dfdccd0909e285010cbfd"
  },
  "kernelspec": {
   "display_name": "Python 3.8.8 64-bit ('base': conda)",
   "language": "python",
   "name": "python3"
  },
  "language_info": {
   "codemirror_mode": {
    "name": "ipython",
    "version": 3
   },
   "file_extension": ".py",
   "mimetype": "text/x-python",
   "name": "python",
   "nbconvert_exporter": "python",
   "pygments_lexer": "ipython3",
   "version": "3.8.8"
  },
  "orig_nbformat": 4
 },
 "nbformat": 4,
 "nbformat_minor": 2
}
